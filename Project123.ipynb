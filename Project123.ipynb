{
 "cells": [
  {
   "cell_type": "markdown",
   "id": "15c0a250",
   "metadata": {},
   "source": [
    "# Project 1"
   ]
  },
  {
   "cell_type": "markdown",
   "id": "e9f019ad",
   "metadata": {},
   "source": [
    "## (a) Nobel Laureates "
   ]
  },
  {
   "cell_type": "code",
   "execution_count": null,
   "id": "96d307c3",
   "metadata": {},
   "outputs": [],
   "source": [
    "import pandas as pd\n",
    "import numpy as np\n",
    "import datetime as dt\n",
    "\n",
    "import matplotlib.pyplot as plt\n",
    "import seaborn as sns"
   ]
  },
  {
   "cell_type": "markdown",
   "id": "88898ce9",
   "metadata": {},
   "source": [
    "#### (1) Read the data in your notebook and display the first 8 rows. How many columns and rows are there in this dataset? What are the column names?"
   ]
  },
  {
   "cell_type": "code",
   "execution_count": null,
   "id": "7127bff9",
   "metadata": {},
   "outputs": [],
   "source": [
    "df = pd.read_csv(\"nobel.csv\")"
   ]
  },
  {
   "cell_type": "code",
   "execution_count": null,
   "id": "eb5758ba",
   "metadata": {},
   "outputs": [],
   "source": [
    "# Printing first 8 rows\n",
    "df.head(8)"
   ]
  },
  {
   "cell_type": "code",
   "execution_count": null,
   "id": "044c98f2",
   "metadata": {},
   "outputs": [],
   "source": [
    "# Getting number of columns and rows\n",
    "df.shape"
   ]
  },
  {
   "cell_type": "code",
   "execution_count": null,
   "id": "b806c45e",
   "metadata": {},
   "outputs": [],
   "source": [
    "# Getting column names\n",
    "for col in df.columns:\n",
    "    print(col)"
   ]
  },
  {
   "cell_type": "markdown",
   "id": "62d5b25b",
   "metadata": {},
   "source": [
    "There are 989 rows and 18 columns"
   ]
  },
  {
   "cell_type": "markdown",
   "id": "a0b10f0f",
   "metadata": {},
   "source": [
    "#### (2) All of the first 8 winners were from Europe. But that was back in 1901. Looking at all winners in this data, which gender and which country is the most commonly represented? (For country, we will use the birth_country of the winner.) "
   ]
  },
  {
   "cell_type": "code",
   "execution_count": 32,
   "id": "e134870c",
   "metadata": {},
   "outputs": [
    {
     "ename": "KeyError",
     "evalue": "'birth_country'",
     "output_type": "error",
     "traceback": [
      "\u001b[0;31m---------------------------------------------------------------------------\u001b[0m",
      "\u001b[0;31mKeyError\u001b[0m                                  Traceback (most recent call last)",
      "\u001b[0;32m/opt/anaconda3/lib/python3.9/site-packages/pandas/core/indexes/base.py\u001b[0m in \u001b[0;36mget_loc\u001b[0;34m(self, key, method, tolerance)\u001b[0m\n\u001b[1;32m   3628\u001b[0m             \u001b[0;32mtry\u001b[0m\u001b[0;34m:\u001b[0m\u001b[0;34m\u001b[0m\u001b[0;34m\u001b[0m\u001b[0m\n\u001b[0;32m-> 3629\u001b[0;31m                 \u001b[0;32mreturn\u001b[0m \u001b[0mself\u001b[0m\u001b[0;34m.\u001b[0m\u001b[0m_engine\u001b[0m\u001b[0;34m.\u001b[0m\u001b[0mget_loc\u001b[0m\u001b[0;34m(\u001b[0m\u001b[0mcasted_key\u001b[0m\u001b[0;34m)\u001b[0m\u001b[0;34m\u001b[0m\u001b[0;34m\u001b[0m\u001b[0m\n\u001b[0m\u001b[1;32m   3630\u001b[0m             \u001b[0;32mexcept\u001b[0m \u001b[0mKeyError\u001b[0m \u001b[0;32mas\u001b[0m \u001b[0merr\u001b[0m\u001b[0;34m:\u001b[0m\u001b[0;34m\u001b[0m\u001b[0;34m\u001b[0m\u001b[0m\n",
      "\u001b[0;32m/opt/anaconda3/lib/python3.9/site-packages/pandas/_libs/index.pyx\u001b[0m in \u001b[0;36mpandas._libs.index.IndexEngine.get_loc\u001b[0;34m()\u001b[0m\n",
      "\u001b[0;32m/opt/anaconda3/lib/python3.9/site-packages/pandas/_libs/index.pyx\u001b[0m in \u001b[0;36mpandas._libs.index.IndexEngine.get_loc\u001b[0;34m()\u001b[0m\n",
      "\u001b[0;32mpandas/_libs/hashtable_class_helper.pxi\u001b[0m in \u001b[0;36mpandas._libs.hashtable.PyObjectHashTable.get_item\u001b[0;34m()\u001b[0m\n",
      "\u001b[0;32mpandas/_libs/hashtable_class_helper.pxi\u001b[0m in \u001b[0;36mpandas._libs.hashtable.PyObjectHashTable.get_item\u001b[0;34m()\u001b[0m\n",
      "\u001b[0;31mKeyError\u001b[0m: 'birth_country'",
      "\nThe above exception was the direct cause of the following exception:\n",
      "\u001b[0;31mKeyError\u001b[0m                                  Traceback (most recent call last)",
      "\u001b[0;32m/var/folders/qc/gdwccjzd2p520cwm2c9jcrjm0000gn/T/ipykernel_17166/1515463286.py\u001b[0m in \u001b[0;36m<module>\u001b[0;34m\u001b[0m\n\u001b[1;32m      1\u001b[0m \u001b[0;31m# Calculating most represented country\u001b[0m\u001b[0;34m\u001b[0m\u001b[0;34m\u001b[0m\u001b[0m\n\u001b[0;32m----> 2\u001b[0;31m \u001b[0mcountry_count\u001b[0m \u001b[0;34m=\u001b[0m \u001b[0mdf\u001b[0m\u001b[0;34m[\u001b[0m\u001b[0;34m'birth_country'\u001b[0m\u001b[0;34m]\u001b[0m\u001b[0;34m.\u001b[0m\u001b[0mvalue_counts\u001b[0m\u001b[0;34m(\u001b[0m\u001b[0;34m)\u001b[0m\u001b[0;34m\u001b[0m\u001b[0;34m\u001b[0m\u001b[0m\n\u001b[0m\u001b[1;32m      3\u001b[0m \u001b[0mcountry_count\u001b[0m\u001b[0;34m.\u001b[0m\u001b[0mhead\u001b[0m\u001b[0;34m(\u001b[0m\u001b[0;36m1\u001b[0m\u001b[0;34m)\u001b[0m\u001b[0;34m\u001b[0m\u001b[0;34m\u001b[0m\u001b[0m\n",
      "\u001b[0;32m/opt/anaconda3/lib/python3.9/site-packages/pandas/core/frame.py\u001b[0m in \u001b[0;36m__getitem__\u001b[0;34m(self, key)\u001b[0m\n\u001b[1;32m   3503\u001b[0m             \u001b[0;32mif\u001b[0m \u001b[0mself\u001b[0m\u001b[0;34m.\u001b[0m\u001b[0mcolumns\u001b[0m\u001b[0;34m.\u001b[0m\u001b[0mnlevels\u001b[0m \u001b[0;34m>\u001b[0m \u001b[0;36m1\u001b[0m\u001b[0;34m:\u001b[0m\u001b[0;34m\u001b[0m\u001b[0;34m\u001b[0m\u001b[0m\n\u001b[1;32m   3504\u001b[0m                 \u001b[0;32mreturn\u001b[0m \u001b[0mself\u001b[0m\u001b[0;34m.\u001b[0m\u001b[0m_getitem_multilevel\u001b[0m\u001b[0;34m(\u001b[0m\u001b[0mkey\u001b[0m\u001b[0;34m)\u001b[0m\u001b[0;34m\u001b[0m\u001b[0;34m\u001b[0m\u001b[0m\n\u001b[0;32m-> 3505\u001b[0;31m             \u001b[0mindexer\u001b[0m \u001b[0;34m=\u001b[0m \u001b[0mself\u001b[0m\u001b[0;34m.\u001b[0m\u001b[0mcolumns\u001b[0m\u001b[0;34m.\u001b[0m\u001b[0mget_loc\u001b[0m\u001b[0;34m(\u001b[0m\u001b[0mkey\u001b[0m\u001b[0;34m)\u001b[0m\u001b[0;34m\u001b[0m\u001b[0;34m\u001b[0m\u001b[0m\n\u001b[0m\u001b[1;32m   3506\u001b[0m             \u001b[0;32mif\u001b[0m \u001b[0mis_integer\u001b[0m\u001b[0;34m(\u001b[0m\u001b[0mindexer\u001b[0m\u001b[0;34m)\u001b[0m\u001b[0;34m:\u001b[0m\u001b[0;34m\u001b[0m\u001b[0;34m\u001b[0m\u001b[0m\n\u001b[1;32m   3507\u001b[0m                 \u001b[0mindexer\u001b[0m \u001b[0;34m=\u001b[0m \u001b[0;34m[\u001b[0m\u001b[0mindexer\u001b[0m\u001b[0;34m]\u001b[0m\u001b[0;34m\u001b[0m\u001b[0;34m\u001b[0m\u001b[0m\n",
      "\u001b[0;32m/opt/anaconda3/lib/python3.9/site-packages/pandas/core/indexes/base.py\u001b[0m in \u001b[0;36mget_loc\u001b[0;34m(self, key, method, tolerance)\u001b[0m\n\u001b[1;32m   3629\u001b[0m                 \u001b[0;32mreturn\u001b[0m \u001b[0mself\u001b[0m\u001b[0;34m.\u001b[0m\u001b[0m_engine\u001b[0m\u001b[0;34m.\u001b[0m\u001b[0mget_loc\u001b[0m\u001b[0;34m(\u001b[0m\u001b[0mcasted_key\u001b[0m\u001b[0;34m)\u001b[0m\u001b[0;34m\u001b[0m\u001b[0;34m\u001b[0m\u001b[0m\n\u001b[1;32m   3630\u001b[0m             \u001b[0;32mexcept\u001b[0m \u001b[0mKeyError\u001b[0m \u001b[0;32mas\u001b[0m \u001b[0merr\u001b[0m\u001b[0;34m:\u001b[0m\u001b[0;34m\u001b[0m\u001b[0;34m\u001b[0m\u001b[0m\n\u001b[0;32m-> 3631\u001b[0;31m                 \u001b[0;32mraise\u001b[0m \u001b[0mKeyError\u001b[0m\u001b[0;34m(\u001b[0m\u001b[0mkey\u001b[0m\u001b[0;34m)\u001b[0m \u001b[0;32mfrom\u001b[0m \u001b[0merr\u001b[0m\u001b[0;34m\u001b[0m\u001b[0;34m\u001b[0m\u001b[0m\n\u001b[0m\u001b[1;32m   3632\u001b[0m             \u001b[0;32mexcept\u001b[0m \u001b[0mTypeError\u001b[0m\u001b[0;34m:\u001b[0m\u001b[0;34m\u001b[0m\u001b[0;34m\u001b[0m\u001b[0m\n\u001b[1;32m   3633\u001b[0m                 \u001b[0;31m# If we have a listlike key, _check_indexing_error will raise\u001b[0m\u001b[0;34m\u001b[0m\u001b[0;34m\u001b[0m\u001b[0m\n",
      "\u001b[0;31mKeyError\u001b[0m: 'birth_country'"
     ]
    }
   ],
   "source": [
    "# Calculating most represented country\n",
    "country_count = df['birth_country'].value_counts()\n",
    "country_count.head(1)"
   ]
  },
  {
   "cell_type": "code",
   "execution_count": null,
   "id": "3b152b4a",
   "metadata": {},
   "outputs": [],
   "source": [
    "# Calculating most represented gender\n",
    "gender_count = df['gender'].value_counts()\n",
    "gender_count.head(1)"
   ]
  },
  {
   "cell_type": "markdown",
   "id": "592f980d",
   "metadata": {},
   "source": [
    "#### (3) For the dominant country that you found in question 2, calculate the proportions of winners from that country in each decade. Make some plots to visualize your results. In which decade did the proportion reach the highest? "
   ]
  },
  {
   "cell_type": "code",
   "execution_count": null,
   "id": "60afdc8a",
   "metadata": {},
   "outputs": [],
   "source": [
    "# Create decade column in df\n",
    "df['year'] = pd.to_datetime(df['year'], format='%Y')\n",
    "df['decade'] = (df['year'].dt.year // 10) * 10"
   ]
  },
  {
   "cell_type": "code",
   "execution_count": null,
   "id": "23fac115",
   "metadata": {},
   "outputs": [],
   "source": [
    "# Filter USA winners\n",
    "USA_winners = df[(df['birth_country'] == 'USA')]\n",
    "USA_winners.head()"
   ]
  },
  {
   "cell_type": "code",
   "execution_count": null,
   "id": "b88a3c9c",
   "metadata": {},
   "outputs": [],
   "source": [
    "# Calculate proportion for each decade\n",
    "USA_counts = USA_winners.groupby(['decade'])['laureate_type'].count().reset_index(name='count')\n",
    "USA_counts['proportion'] = USA_counts['count']/296\n",
    "USA_counts.head(15)"
   ]
  },
  {
   "cell_type": "code",
   "execution_count": null,
   "id": "a724856d",
   "metadata": {},
   "outputs": [],
   "source": [
    "plt.style.use('ggplot')\n",
    "USA_counts['proportion'].plot(kind=\"bar\", xlabel = 'decade')"
   ]
  },
  {
   "cell_type": "code",
   "execution_count": null,
   "id": "117a46ec",
   "metadata": {},
   "outputs": [],
   "source": [
    "The proportion ins the 10th decade was the highest (i.e. 2000s)"
   ]
  },
  {
   "cell_type": "markdown",
   "id": "4d978630",
   "metadata": {},
   "source": [
    "#### (4) Is there any gender imbalance in this data? How significant is that? Calculate the proportion of female laureates in each decade. Visualize your results and discuss."
   ]
  },
  {
   "cell_type": "code",
   "execution_count": null,
   "id": "df2f98aa",
   "metadata": {},
   "outputs": [],
   "source": [
    "indiv_winners = df[(df['laureate_type'] == 'Individual')]\n",
    "indiv_winners.head()"
   ]
  },
  {
   "cell_type": "code",
   "execution_count": null,
   "id": "faa39e7d",
   "metadata": {},
   "outputs": [],
   "source": [
    "# Calculate proportion for each gender\n",
    "gender_counts = indiv_winners.groupby(['decade','gender'])['laureate_type'].count().reset_index(name='count')\n",
    "\n",
    "gender_counts['proportion'] = gender_counts['count']/gender_counts['count'].sum()\n",
    "gender_counts.head()"
   ]
  },
  {
   "cell_type": "code",
   "execution_count": null,
   "id": "69910219",
   "metadata": {},
   "outputs": [],
   "source": [
    "# Group the data by decade and gender\n",
    "grouped_df = gender_counts.groupby(['decade', 'gender'])['proportion'].sum().unstack()\n",
    "\n",
    "# Plot the data using a stacked bar chart\n",
    "ax = grouped_df.plot(kind='bar', stacked=True, figsize=(10, 5))\n",
    "\n",
    "# Set the plot title and axis labels\n",
    "ax.set_title('Proportion of Gender per Decade')\n",
    "ax.set_xlabel('Decade')\n",
    "ax.set_ylabel('Proportion')\n",
    "\n",
    "# Set the legend position\n",
    "ax.legend(loc='upper left')\n",
    "\n",
    "# Show the plot\n",
    "plt.style.use('fivethirtyeight')\n",
    "plt.show()"
   ]
  },
  {
   "cell_type": "markdown",
   "id": "d413943a",
   "metadata": {},
   "source": [
    "Hence, it is clear that there is an under-representation of females across the decades"
   ]
  },
  {
   "cell_type": "markdown",
   "id": "b8d5b0bb",
   "metadata": {},
   "source": [
    "#### (5) For the gender imbalance that you found in question 4, is it better or worse within specific prize categories? Visualize your results for each category and discuss. Which of them has the largest gender imbalance? Which has shown some positive trend over the decades?"
   ]
  },
  {
   "cell_type": "code",
   "execution_count": null,
   "id": "54d2f13a",
   "metadata": {},
   "outputs": [],
   "source": [
    "prize_counts = indiv_winners.groupby(['decade','gender', 'prize'])['laureate_type'].count().reset_index(name='count')\n",
    "\n",
    "prize_counts['proportion'] = prize_counts['count']/prize_counts['count'].sum()\n",
    "\n",
    "# Set the plot size and style\n",
    "plt.figure(figsize=(12, 6))\n",
    "plt.style.use('ggplot')\n",
    "\n",
    "# Define the prize categories\n",
    "prizes = prize_counts['prize'].unique()\n",
    "\n",
    "# Loop through each prize category and plot a grouped bar chart\n",
    "for i, prize in enumerate(prizes):\n",
    "    plt.subplot(2, 3, i+1)\n",
    "    prize_df = prize_counts[prize_counts['prize'] == prize]\n",
    "    sns.barplot(x='decade', y='proportion', hue='gender', data=prize_df)\n",
    "    plt.title(prize)\n",
    "    plt.xlabel('Decade')\n",
    "    plt.ylabel('Proportion')\n",
    "    plt.legend(loc='upper left')\n",
    "    \n",
    "# Set the plot title\n",
    "plt.suptitle('Proportion of Gender per Decade for Each Prize Category')\n",
    "\n",
    "# Adjust the spacing between subplots\n",
    "plt.tight_layout()\n",
    "\n",
    "# Show the plot\n",
    "plt.show()"
   ]
  },
  {
   "cell_type": "markdown",
   "id": "4aaa0046",
   "metadata": {},
   "source": [
    "The largest imbalances are in the Nobel Prize in Physics and The Sveriges Riksbank Prize in Economic Sciences in Memory of Alfred Nobel while the Nobel Peace prize and Nobel prize in Literature shows positive trends"
   ]
  },
  {
   "cell_type": "markdown",
   "id": "280e4f4f",
   "metadata": {},
   "source": [
    "#### (6) Are there any people who have won the Nobel Prize more than once? Who are they? \n"
   ]
  },
  {
   "cell_type": "code",
   "execution_count": null,
   "id": "81549a89",
   "metadata": {},
   "outputs": [],
   "source": [
    "# Group the data by full_name and count the number of occurrences\n",
    "counts = indiv_winners.groupby('full_name').size().reset_index(name='num_wins')\n",
    "\n",
    "# Filter the DataFrame to only include names that appear more than once\n",
    "multiple_winners = counts[counts['num_wins'] > 1]\n",
    "\n",
    "# Print multiple winners\n",
    "multiple_winners.head()"
   ]
  },
  {
   "cell_type": "markdown",
   "id": "87c02a50",
   "metadata": {},
   "source": [
    "#### (7)  Who are the oldest and youngest people ever to have won a Nobel Prize? How old were the winners generally when they got the prize? Show the summary statistics, and plot the distribution of the age of winners. "
   ]
  },
  {
   "cell_type": "code",
   "execution_count": null,
   "id": "2ad46b4e",
   "metadata": {},
   "outputs": [],
   "source": [
    "df = df[(df['laureate_type'] == 'Individual')]"
   ]
  },
  {
   "cell_type": "code",
   "execution_count": null,
   "id": "f308decc",
   "metadata": {},
   "outputs": [],
   "source": [
    "# Convert birth_date and award_year columns to datetime format\n",
    "df['birth_date'] = pd.to_datetime(df['birth_date'])\n",
    "df['year'] = pd.to_datetime(df['year'], format='%Y')\n",
    "\n",
    "# Calculate age at the time of winning for each winner\n",
    "df['age_at_win'] = (df['year'] - df['birth_date']).astype('<m8[Y]')\n",
    "\n",
    "df.head()"
   ]
  },
  {
   "cell_type": "code",
   "execution_count": null,
   "id": "bb9714cc",
   "metadata": {},
   "outputs": [],
   "source": [
    "# Find the oldest and youngest people ever to have won a Nobel Prize\n",
    "oldest_winner = df.loc[df['age_at_win'].idxmax(), 'full_name']\n",
    "youngest_winner = df.loc[df['age_at_win'].idxmin(), 'full_name']\n",
    "\n",
    "print('Oldest winner:', oldest_winner)\n",
    "print('Youngest winner:', youngest_winner)"
   ]
  },
  {
   "cell_type": "code",
   "execution_count": null,
   "id": "34ba7931",
   "metadata": {},
   "outputs": [],
   "source": [
    "# Calculate summary statistics for age at the time of winning\n",
    "age_summary = df['age_at_win'].describe()\n",
    "age_summary"
   ]
  },
  {
   "cell_type": "code",
   "execution_count": null,
   "id": "5c919704",
   "metadata": {},
   "outputs": [],
   "source": [
    "# Plot the distribution of age at the time of winning\n",
    "plt.style.use('fivethirtyeight')\n",
    "plt.hist(df['age_at_win'], bins=20)\n",
    "plt.title('Distribution of Age at Time of Winning')\n",
    "plt.xlabel('Age')\n",
    "plt.ylabel('Frequency')\n",
    "plt.show()"
   ]
  },
  {
   "cell_type": "markdown",
   "id": "f191b3ef",
   "metadata": {},
   "source": [
    "#### (8) For your results in question 7, does the average age of winners differ across each category? For each category, show the summary statistics and plot the distribution of the age of winners. Which categories have the largest and smallest average age of winners? "
   ]
  },
  {
   "cell_type": "code",
   "execution_count": null,
   "id": "33f2c83d",
   "metadata": {},
   "outputs": [],
   "source": [
    "# use pandas to group the data by prize category and calculate the summary statistics for the age column\n",
    "age_stats_by_category = df.groupby('prize')['age_at_win'].describe()\n",
    "print(age_stats_by_category)"
   ]
  },
  {
   "cell_type": "code",
   "execution_count": null,
   "id": "7c0742e8",
   "metadata": {},
   "outputs": [],
   "source": [
    "# use seaborn to plot the distribution of the age of winners for each prize category\n",
    "ax = sns.histplot(data=df, x='age_at_win', hue='prize', kde=True, bins=np.arange(0, 110, 10))\n",
    "plt.xlabel('Age at time of award')\n",
    "plt.ylabel('Number of winners')\n",
    "plt.legend(labels = df['prize'], title = \"Prize Categories\", fontsize = 'x-small')\n",
    "sns.move_legend(ax, \"upper left\", bbox_to_anchor=(1, 1))\n",
    "\n",
    "\n",
    "plt.show()"
   ]
  },
  {
   "cell_type": "code",
   "execution_count": null,
   "id": "950db548",
   "metadata": {},
   "outputs": [],
   "source": [
    "# identify the categories with the largest and smallest average age of winners\n",
    "avg_age_by_category = df.groupby('prize')['age_at_win'].mean()\n",
    "print(avg_age_by_category)"
   ]
  },
  {
   "cell_type": "code",
   "execution_count": null,
   "id": "6660fed9",
   "metadata": {},
   "outputs": [],
   "source": [
    "# category with largest average age of winners\n",
    "largest_avg_age_category = avg_age_by_category.idxmax()\n",
    "print(f\"{largest_avg_age_category} has the largest average age with an average age of {avg_age_by_category.max():.2f} years.\")\n"
   ]
  },
  {
   "cell_type": "code",
   "execution_count": null,
   "id": "43e27c04",
   "metadata": {},
   "outputs": [],
   "source": [
    "# category with smallest average age of winners\n",
    "smallest_avg_age_category = avg_age_by_category.idxmin()\n",
    "print(f\"{smallest_avg_age_category} has the smallest average age with an average age of {avg_age_by_category.min():.2f} years.\")\n"
   ]
  },
  {
   "cell_type": "markdown",
   "id": "267a06b1",
   "metadata": {},
   "source": [
    "#### (9) Make some plots to visualize the time trend of the average age of winners in each specific category per decade. What do you find?"
   ]
  },
  {
   "cell_type": "code",
   "execution_count": null,
   "id": "e47d0547",
   "metadata": {},
   "outputs": [],
   "source": [
    "# Group by decade and prize category\n",
    "age_by_category = df.groupby(['decade', 'category'])['age_at_win'].mean().reset_index()\n"
   ]
  },
  {
   "cell_type": "code",
   "execution_count": null,
   "id": "16d9de1a",
   "metadata": {},
   "outputs": [],
   "source": [
    "ax1 = sns.lineplot(x='decade', y='age_at_win', hue='category', data=age_by_category, ci='sd')\n",
    "plt.xlabel('Decade')\n",
    "plt.ylabel('Average age')\n",
    "plt.legend(title = \"Prize Categories\", fontsize = 'x-small')\n",
    "sns.move_legend(ax1, \"upper left\", bbox_to_anchor=(1, 1))\n",
    "\n",
    "plt.title('Trend of the average age of Nobel Prize winners by category per decade')\n",
    "plt.show()"
   ]
  },
  {
   "cell_type": "markdown",
   "id": "6161d47b",
   "metadata": {},
   "source": [
    "The average of of nobel prize winners are generally increasing with the exception of Peace and Economic Sciences"
   ]
  },
  {
   "cell_type": "markdown",
   "id": "857fb0ce",
   "metadata": {},
   "source": [
    "#### (10) Repeat the analysis in question 9, but with lifespan instead of age. What do you find? "
   ]
  },
  {
   "cell_type": "code",
   "execution_count": null,
   "id": "335673c3",
   "metadata": {},
   "outputs": [],
   "source": [
    "# Convert dates to datetime format\n",
    "df['birth_date'] = pd.to_datetime(df['birth_date'])\n",
    "df['death_date'] = pd.to_datetime(df['death_date'])\n",
    "\n",
    "# Calculate lifespan of each prize winner\n",
    "df['lifespan'] = df['death_date'] - df['birth_date']\n",
    "\n",
    "# Treat NA values for winners who are still alive\n",
    "df['lifespan'] = df['lifespan'].fillna(dt.datetime.now() - df['birth_date'])\n",
    "\n",
    "# Calculate lifespan in years\n",
    "df['lifespan'] = df['lifespan'].dt.days / 365.25\n",
    "\n",
    "df.head()"
   ]
  },
  {
   "cell_type": "code",
   "execution_count": null,
   "id": "2cf0e91d",
   "metadata": {},
   "outputs": [],
   "source": [
    "lifespan_by_category = df.groupby(['decade', 'category'])['lifespan'].mean().reset_index()\n",
    "\n",
    "ax2 = sns.lineplot(x='decade', y='lifespan', hue='category', data=lifespan_by_category, ci='sd')\n",
    "plt.xlabel('Decade')\n",
    "plt.ylabel('Lifespan')\n",
    "plt.legend(title = \"Prize Categories\", fontsize = 'x-small')\n",
    "sns.move_legend(ax2, \"upper left\", bbox_to_anchor=(1, 1))\n",
    "\n",
    "plt.title('Trend of the average age of Nobel Prize winners by category per decade')\n",
    "plt.show()"
   ]
  },
  {
   "cell_type": "markdown",
   "id": "a079d012",
   "metadata": {},
   "source": [
    "The average lifespan of Nobel Prize winners are decreasing"
   ]
  },
  {
   "cell_type": "code",
   "execution_count": null,
   "id": "0e10fa46",
   "metadata": {},
   "outputs": [],
   "source": []
  },
  {
   "cell_type": "code",
   "execution_count": null,
   "id": "565741b3",
   "metadata": {},
   "outputs": [],
   "source": []
  },
  {
   "cell_type": "code",
   "execution_count": null,
   "id": "5c6b7b25",
   "metadata": {},
   "outputs": [],
   "source": []
  },
  {
   "cell_type": "markdown",
   "id": "5d90168e",
   "metadata": {},
   "source": [
    "## (b) Covid-19 \n"
   ]
  },
  {
   "cell_type": "markdown",
   "id": "dd8b50a9",
   "metadata": {},
   "source": [
    "## 11. Read the data (covid.csv) in your notebook and display the first 8 rows. How many columns and rows are there in this dataset? What are the column names?\n"
   ]
  },
  {
   "cell_type": "code",
   "execution_count": 16,
   "id": "535b97f6",
   "metadata": {},
   "outputs": [
    {
     "data": {
      "text/html": [
       "<div>\n",
       "<style scoped>\n",
       "    .dataframe tbody tr th:only-of-type {\n",
       "        vertical-align: middle;\n",
       "    }\n",
       "\n",
       "    .dataframe tbody tr th {\n",
       "        vertical-align: top;\n",
       "    }\n",
       "\n",
       "    .dataframe thead th {\n",
       "        text-align: right;\n",
       "    }\n",
       "</style>\n",
       "<table border=\"1\" class=\"dataframe\">\n",
       "  <thead>\n",
       "    <tr style=\"text-align: right;\">\n",
       "      <th></th>\n",
       "      <th>Reported_Date</th>\n",
       "      <th>HA</th>\n",
       "      <th>Sex</th>\n",
       "      <th>Age_Group</th>\n",
       "      <th>Classification_Reported</th>\n",
       "    </tr>\n",
       "  </thead>\n",
       "  <tbody>\n",
       "    <tr>\n",
       "      <th>0</th>\n",
       "      <td>2020-01-26</td>\n",
       "      <td>Out of Canada</td>\n",
       "      <td>M</td>\n",
       "      <td>40-49</td>\n",
       "      <td>Lab-diagnosed</td>\n",
       "    </tr>\n",
       "    <tr>\n",
       "      <th>1</th>\n",
       "      <td>2020-02-02</td>\n",
       "      <td>Vancouver Coastal</td>\n",
       "      <td>F</td>\n",
       "      <td>50-59</td>\n",
       "      <td>Lab-diagnosed</td>\n",
       "    </tr>\n",
       "    <tr>\n",
       "      <th>2</th>\n",
       "      <td>2020-02-05</td>\n",
       "      <td>Out of Canada</td>\n",
       "      <td>F</td>\n",
       "      <td>20-29</td>\n",
       "      <td>Lab-diagnosed</td>\n",
       "    </tr>\n",
       "    <tr>\n",
       "      <th>3</th>\n",
       "      <td>2020-02-05</td>\n",
       "      <td>Out of Canada</td>\n",
       "      <td>M</td>\n",
       "      <td>30-39</td>\n",
       "      <td>Lab-diagnosed</td>\n",
       "    </tr>\n",
       "    <tr>\n",
       "      <th>4</th>\n",
       "      <td>2020-02-11</td>\n",
       "      <td>Interior</td>\n",
       "      <td>F</td>\n",
       "      <td>30-39</td>\n",
       "      <td>Lab-diagnosed</td>\n",
       "    </tr>\n",
       "    <tr>\n",
       "      <th>...</th>\n",
       "      <td>...</td>\n",
       "      <td>...</td>\n",
       "      <td>...</td>\n",
       "      <td>...</td>\n",
       "      <td>...</td>\n",
       "    </tr>\n",
       "    <tr>\n",
       "      <th>12549</th>\n",
       "      <td>2020-10-22</td>\n",
       "      <td>Vancouver Coastal</td>\n",
       "      <td>M</td>\n",
       "      <td>60-69</td>\n",
       "      <td>Lab-diagnosed</td>\n",
       "    </tr>\n",
       "    <tr>\n",
       "      <th>12550</th>\n",
       "      <td>2020-10-22</td>\n",
       "      <td>Vancouver Coastal</td>\n",
       "      <td>M</td>\n",
       "      <td>10-19</td>\n",
       "      <td>Lab-diagnosed</td>\n",
       "    </tr>\n",
       "    <tr>\n",
       "      <th>12551</th>\n",
       "      <td>2020-10-22</td>\n",
       "      <td>Vancouver Coastal</td>\n",
       "      <td>M</td>\n",
       "      <td>60-69</td>\n",
       "      <td>Lab-diagnosed</td>\n",
       "    </tr>\n",
       "    <tr>\n",
       "      <th>12552</th>\n",
       "      <td>2020-10-23</td>\n",
       "      <td>Vancouver Coastal</td>\n",
       "      <td>U</td>\n",
       "      <td>Unknown</td>\n",
       "      <td>Lab-diagnosed</td>\n",
       "    </tr>\n",
       "    <tr>\n",
       "      <th>12553</th>\n",
       "      <td>2020-10-23</td>\n",
       "      <td>Vancouver Coastal</td>\n",
       "      <td>U</td>\n",
       "      <td>Unknown</td>\n",
       "      <td>Lab-diagnosed</td>\n",
       "    </tr>\n",
       "  </tbody>\n",
       "</table>\n",
       "<p>12554 rows × 5 columns</p>\n",
       "</div>"
      ],
      "text/plain": [
       "      Reported_Date                 HA Sex Age_Group Classification_Reported\n",
       "0        2020-01-26      Out of Canada   M     40-49           Lab-diagnosed\n",
       "1        2020-02-02  Vancouver Coastal   F     50-59           Lab-diagnosed\n",
       "2        2020-02-05      Out of Canada   F     20-29           Lab-diagnosed\n",
       "3        2020-02-05      Out of Canada   M     30-39           Lab-diagnosed\n",
       "4        2020-02-11           Interior   F     30-39           Lab-diagnosed\n",
       "...             ...                ...  ..       ...                     ...\n",
       "12549    2020-10-22  Vancouver Coastal   M     60-69           Lab-diagnosed\n",
       "12550    2020-10-22  Vancouver Coastal   M     10-19           Lab-diagnosed\n",
       "12551    2020-10-22  Vancouver Coastal   M     60-69           Lab-diagnosed\n",
       "12552    2020-10-23  Vancouver Coastal   U   Unknown           Lab-diagnosed\n",
       "12553    2020-10-23  Vancouver Coastal   U   Unknown           Lab-diagnosed\n",
       "\n",
       "[12554 rows x 5 columns]"
      ]
     },
     "execution_count": 16,
     "metadata": {},
     "output_type": "execute_result"
    }
   ],
   "source": [
    "import pandas as pd\n",
    "df = pd.read_csv('covid.csv', sep = ',')\n",
    "df\n",
    "\n"
   ]
  },
  {
   "cell_type": "code",
   "execution_count": 18,
   "id": "8963f1cf",
   "metadata": {},
   "outputs": [
    {
     "name": "stdout",
     "output_type": "stream",
     "text": [
      "There are 12554 rows and 5 columns in this dataset.\n",
      "The column names are: Reported_Date, HA, Sex, Age_Group, Classification_Reported\n"
     ]
    }
   ],
   "source": [
    "\n",
    "num_rows, num_cols = df.shape\n",
    "print(f\"There are {num_rows} rows and {num_cols} columns in this dataset.\")\n",
    "\n",
    "print(f\"The column names are: Reported_Date, HA, Sex, Age_Group, Classification_Reported\")\n",
    "\n"
   ]
  },
  {
   "cell_type": "markdown",
   "id": "8e846611",
   "metadata": {},
   "source": [
    "## 12. Create a new column Month to represent the month of the Reported_Date in the data. Print the first 8 rows of updated dataframe."
   ]
  },
  {
   "cell_type": "code",
   "execution_count": 20,
   "id": "9233f057",
   "metadata": {},
   "outputs": [
    {
     "name": "stdout",
     "output_type": "stream",
     "text": [
      "  Reported_Date                 HA Sex Age_Group Classification_Reported  \\\n",
      "0    2020-01-26      Out of Canada   M     40-49           Lab-diagnosed   \n",
      "1    2020-02-02  Vancouver Coastal   F     50-59           Lab-diagnosed   \n",
      "2    2020-02-05      Out of Canada   F     20-29           Lab-diagnosed   \n",
      "3    2020-02-05      Out of Canada   M     30-39           Lab-diagnosed   \n",
      "4    2020-02-11           Interior   F     30-39           Lab-diagnosed   \n",
      "5    2020-02-20             Fraser   F     30-39           Lab-diagnosed   \n",
      "6    2020-02-21             Fraser   M     40-49           Lab-diagnosed   \n",
      "7    2020-02-27  Vancouver Coastal   F     60-69           Lab-diagnosed   \n",
      "\n",
      "      Month  \n",
      "0   January  \n",
      "1  February  \n",
      "2  February  \n",
      "3  February  \n",
      "4  February  \n",
      "5  February  \n",
      "6  February  \n",
      "7  February  \n"
     ]
    }
   ],
   "source": [
    "df['Month'] = pd.to_datetime(df['Reported_Date']).dt.month_name()\n",
    "\n",
    "\n",
    "print(df.head(8))"
   ]
  },
  {
   "cell_type": "markdown",
   "id": "1ae95995",
   "metadata": {},
   "source": [
    "## 13 Create a new dictionary which contains the months as keys and the number of cases for corresponding months as values. Show the dictionary. What is the largest number of cases in the dictionary?"
   ]
  },
  {
   "cell_type": "code",
   "execution_count": 21,
   "id": "e3d0011c",
   "metadata": {},
   "outputs": [
    {
     "name": "stdout",
     "output_type": "stream",
     "text": [
      "{'April': 1088, 'August': 2180, 'February': 8, 'January': 1, 'July': 760, 'June': 337, 'March': 1049, 'May': 447, 'October': 3292, 'September': 3392}\n",
      "The largest number of cases is 3392.\n"
     ]
    }
   ],
   "source": [
    "\n",
    "monthly_cases = df.groupby('Month')['Reported_Date'].count().to_dict()\n",
    "\n",
    "print(monthly_cases)\n",
    "\n",
    "max_cases = max(monthly_cases.values())\n",
    "print(f\"The largest number of cases is {max_cases}.\")\n"
   ]
  },
  {
   "cell_type": "markdown",
   "id": "efaaa190",
   "metadata": {},
   "source": [
    "## 14. Make some plots to visualize the time trend of the number of cases in every month. What do you find?"
   ]
  },
  {
   "cell_type": "code",
   "execution_count": 22,
   "id": "5c04ea3d",
   "metadata": {},
   "outputs": [
    {
     "data": {
      "image/png": "[encoded data removed]",
      "text/plain": [
       "<Figure size 640x480 with 1 Axes>"
      ]
     },
     "metadata": {},
     "output_type": "display_data"
    },
    {
     "name": "stdout",
     "output_type": "stream",
     "text": [
      "There was a spike from September to October\n"
     ]
    }
   ],
   "source": [
    "import numpy as np\n",
    "import matplotlib.pyplot as plt\n",
    "\n",
    "monthly_cases = df.groupby('Month')['Reported_Date'].count().to_dict()\n",
    "\n",
    "months = list(monthly_cases.keys())\n",
    "cases = list(monthly_cases.values())\n",
    "\n",
    "plt.bar(months, cases)\n",
    "plt.xlabel('Month')\n",
    "plt.ylabel('Number of Cases')\n",
    "plt.title('Number of Cases by Month')\n",
    "plt.show()\n",
    "\n",
    "print('There was a spike from September to October')"
   ]
  },
  {
   "cell_type": "markdown",
   "id": "93eddce6",
   "metadata": {},
   "source": [
    "## 15. Is there any gender imbalance in this data? Visualize the time trend of the number of cases for each gender and discuss.\n"
   ]
  },
  {
   "cell_type": "code",
   "execution_count": 7,
   "id": "d3498204",
   "metadata": {},
   "outputs": [
    {
     "data": {
      "image/png": "[encoded data removed]",
      "text/plain": [
       "<Figure size 640x480 with 1 Axes>"
      ]
     },
     "metadata": {},
     "output_type": "display_data"
    }
   ],
   "source": [
    "import numpy as np\n",
    "import matplotlib.pyplot as plt\n",
    "\n",
    "monthly_gender_cases = df.groupby(['Month', 'Sex'])['Reported_Date'].count().unstack()\n",
    "\n",
    "monthly_gender_cases.plot(kind='line')\n",
    "plt.xlabel('Month')\n",
    "plt.ylabel('Number of Cases')\n",
    "plt.title('Number of Cases by Month and Gender')\n",
    "plt.show()\n"
   ]
  },
  {
   "cell_type": "markdown",
   "id": "64613f59",
   "metadata": {},
   "source": [
    "\n",
    "## 16. Create new dictionaries which contain the months as keys and the number of cases for corresponding months per each gender as values. Show the dictionaries. Find the month with the smallest number of female cases."
   ]
  },
  {
   "cell_type": "code",
   "execution_count": 23,
   "id": "bf335f44",
   "metadata": {},
   "outputs": [
    {
     "name": "stdout",
     "output_type": "stream",
     "text": [
      "Male cases by month: {'January': 1, 'February': 2, 'March': 479, 'April': 549, 'May': 218, 'June': 168, 'July': 364, 'August': 1161, 'September': 1705, 'October': 1635}\n",
      "Female cases by month: {'January': 0, 'February': 6, 'March': 570, 'April': 538, 'May': 227, 'June': 167, 'July': 387, 'August': 1013, 'September': 1668, 'October': 1629}\n",
      " \n",
      " Month with the smallest number of female cases: January\n"
     ]
    }
   ],
   "source": [
    "male_cases = {}\n",
    "female_cases = {}\n",
    "\n",
    "for month in df['Month'].unique():\n",
    "    male_cases[month] = sum((df['Month'] == month) & (df['Sex'] == 'M'))\n",
    "    female_cases[month] = sum((df['Month'] == month) & (df['Sex'] == 'F'))\n",
    "\n",
    "# Show the dictionaries\n",
    "print(\"Male cases by month:\", male_cases)\n",
    "print(\"Female cases by month:\", female_cases)\n",
    "\n",
    "# Find the month with the smallest number of female cases\n",
    "smallest_month = min(female_cases, key=female_cases.get)\n",
    "print(\" \\n Month with the smallest number of female cases:\", smallest_month)"
   ]
  },
  {
   "cell_type": "markdown",
   "id": "1abdd0e8",
   "metadata": {},
   "source": [
    "## 17. Is there any imbalance among different regions in this data? Make some plots to visualize the difference among the regions in terms of reported cases in every month, and discuss your results."
   ]
  },
  {
   "cell_type": "code",
   "execution_count": 24,
   "id": "49ef5697",
   "metadata": {},
   "outputs": [
    {
     "data": {
      "image/png": "[encoded data removed]",
      "text/plain": [
       "<Figure size 640x480 with 1 Axes>"
      ]
     },
     "metadata": {},
     "output_type": "display_data"
    }
   ],
   "source": [
    "import matplotlib.pyplot as plt\n",
    "\n",
    "monthly_region_cases = df.groupby(['Month', 'HA']).count()['Reported_Date']\n",
    "\n",
    "monthly_region_cases = monthly_region_cases.unstack()\n",
    "\n",
    "monthly_region_cases.plot(kind='bar', stacked=True)\n",
    "\n",
    "plt.title('Reported Cases by HA and Month')\n",
    "plt.xlabel('Month')\n",
    "plt.ylabel('Number of Reported Cases')\n",
    "plt.show()\n"
   ]
  },
  {
   "cell_type": "markdown",
   "id": "e6951e6d",
   "metadata": {},
   "source": [
    "## 18. Calculate the cumulative reported cases in every month for each region. Print the first 8 rows. Visualize the difference among the regions in terms of cumulative reported cases in every month, and discuss your results.\n"
   ]
  },
  {
   "cell_type": "code",
   "execution_count": 27,
   "id": "45a45773",
   "metadata": {},
   "outputs": [
    {
     "data": {
      "text/plain": [
       "Month   HA               \n",
       "April   Fraser                617\n",
       "        Interior               66\n",
       "        Northern               33\n",
       "        Out of Canada           5\n",
       "        Vancouver Coastal     315\n",
       "        Vancouver Island       52\n",
       "August  Fraser               1154\n",
       "        Interior               70\n",
       "Name: Reported_Date, dtype: int64"
      ]
     },
     "execution_count": 27,
     "metadata": {},
     "output_type": "execute_result"
    }
   ],
   "source": [
    "monthly_region_cases = df.groupby(['Month', 'HA']).count()['Reported_Date']\n",
    "monthly_region_cases[:8]\n"
   ]
  },
  {
   "cell_type": "code",
   "execution_count": 28,
   "id": "4240a436",
   "metadata": {},
   "outputs": [
    {
     "name": "stdout",
     "output_type": "stream",
     "text": [
      "\n",
      " most of them seem to be in Fraser, whether it was August or \n"
     ]
    }
   ],
   "source": [
    "print('\\n most of them seem to be in Fraser, whether it was August or April')"
   ]
  },
  {
   "cell_type": "markdown",
   "id": "565f7488",
   "metadata": {},
   "source": [
    "## 19. Open question: what else can you find from this data?"
   ]
  },
  {
   "cell_type": "code",
   "execution_count": 30,
   "id": "c2b539e9",
   "metadata": {},
   "outputs": [
    {
     "data": {
      "text/plain": [
       "HA                 Age_Group\n",
       "Fraser             10-19         530\n",
       "                   20-29        1576\n",
       "                   30-39        1330\n",
       "                   40-49        1080\n",
       "                   50-59         926\n",
       "                   60-69         527\n",
       "                   70-79         323\n",
       "                   80-89         205\n",
       "                   90+            87\n",
       "                   <10           280\n",
       "Interior           10-19          43\n",
       "                   20-29         181\n",
       "                   30-39         115\n",
       "                   40-49         105\n",
       "                   50-59          76\n",
       "                   60-69          69\n",
       "                   70-79          36\n",
       "                   80-89          15\n",
       "                   90+             2\n",
       "                   <10            20\n",
       "Northern           10-19          32\n",
       "                   20-29          61\n",
       "                   30-39          65\n",
       "                   40-49          56\n",
       "                   50-59          56\n",
       "                   60-69          40\n",
       "                   70-79          24\n",
       "                   80-89           6\n",
       "                   <10            29\n",
       "                   Unknown         2\n",
       "Out of Canada      10-19           1\n",
       "                   20-29           8\n",
       "                   30-39          23\n",
       "                   40-49          24\n",
       "                   50-59          23\n",
       "                   60-69           3\n",
       "                   70-79           2\n",
       "                   Unknown         4\n",
       "Vancouver Coastal  10-19         229\n",
       "                   20-29        1031\n",
       "                   30-39         937\n",
       "                   40-49         581\n",
       "                   50-59         542\n",
       "                   60-69         339\n",
       "                   70-79         200\n",
       "                   80-89         162\n",
       "                   90+           117\n",
       "                   <10           132\n",
       "                   Unknown        49\n",
       "Vancouver Island   10-19          13\n",
       "                   20-29          47\n",
       "                   30-39          51\n",
       "                   40-49          33\n",
       "                   50-59          34\n",
       "                   60-69          30\n",
       "                   70-79          25\n",
       "                   80-89           9\n",
       "                   90+             1\n",
       "                   <10             7\n",
       "Name: Reported_Date, dtype: int64"
      ]
     },
     "execution_count": 30,
     "metadata": {},
     "output_type": "execute_result"
    }
   ],
   "source": [
    "\n",
    "\n",
    "region_age = df.groupby(['HA','Age_Group']).count()['Reported_Date']\n",
    "region_age\n",
    "\n"
   ]
  },
  {
   "cell_type": "code",
   "execution_count": 31,
   "id": "ebc90a4f",
   "metadata": {},
   "outputs": [
    {
     "name": "stdout",
     "output_type": "stream",
     "text": [
      "The age groups for each type of hospital\n"
     ]
    }
   ],
   "source": [
    "print('The age groups for each type of hospital')"
   ]
  },
  {
   "cell_type": "code",
   "execution_count": null,
   "id": "bc42785f",
   "metadata": {},
   "outputs": [],
   "source": []
  },
  {
   "cell_type": "code",
   "execution_count": null,
   "id": "2240bc63",
   "metadata": {},
   "outputs": [],
   "source": []
  },
  {
   "cell_type": "code",
   "execution_count": null,
   "id": "2ed42fa5",
   "metadata": {},
   "outputs": [],
   "source": []
  },
  {
   "cell_type": "code",
   "execution_count": null,
   "id": "ce0ea6f4",
   "metadata": {},
   "outputs": [],
   "source": []
  }
 ],
 "metadata": {
  "kernelspec": {
   "display_name": "Python 3 (ipykernel)",
   "language": "python",
   "name": "python3"
  },
  "language_info": {
   "codemirror_mode": {
    "name": "ipython",
    "version": 3
   },
   "file_extension": ".py",
   "mimetype": "text/x-python",
   "name": "python",
   "nbconvert_exporter": "python",
   "pygments_lexer": "ipython3",
   "version": "3.9.13"
  }
 },
 "nbformat": 4,
 "nbformat_minor": 5
}
